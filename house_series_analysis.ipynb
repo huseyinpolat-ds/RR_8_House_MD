{
 "cells": [
  {
   "cell_type": "code",
   "execution_count": null,
   "metadata": {},
   "outputs": [],
   "source": [
    "import pandas as pd\n",
    "import seaborn as sns\n",
    "import matplotlib.pyplot as plt"
   ]
  },
  {
   "cell_type": "markdown",
   "metadata": {},
   "source": [
    "# House (TV Series)\n",
    "\n",
    "**House** (also called ***House, M.D.***) is an American medical drama television series that originally ran on the Fox network for eight seasons, from November 16, 2004, to May 21, 2012. Its main character, ***Dr. Gregory House (Hugh Laurie)***, is an unconventional, misanthropic medical genius who, despite his dependence on pain medication, leads a team of diagnosticians at the fictional Princeton–Plainsboro Teaching Hospital (PPTH) in New Jersey. The series' premise originated with Paul Attanasio, while David Shore, who is credited as creator, was primarily responsible for conceiving the title character."
   ]
  },
  {
   "cell_type": "markdown",
   "metadata": {},
   "source": [
    "![House](House-MD.png \"Source: https://clesportstalk.com/im-watching-house-m-d-loving-it-heres-why/\")"
   ]
  }
 ],
 "metadata": {
  "language_info": {
   "name": "python"
  }
 },
 "nbformat": 4,
 "nbformat_minor": 2
}
